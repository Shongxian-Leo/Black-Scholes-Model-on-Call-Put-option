{
  "nbformat": 4,
  "nbformat_minor": 0,
  "metadata": {
    "colab": {
      "provenance": []
    },
    "kernelspec": {
      "name": "python3",
      "display_name": "Python 3"
    },
    "language_info": {
      "name": "python"
    }
  },
  "cells": [
    {
      "cell_type": "markdown",
      "source": [
        "# Step 1\n",
        "\n"
      ],
      "metadata": {
        "id": "WBNJWVwtFmtu"
      }
    },
    {
      "cell_type": "markdown",
      "source": [
        "# Team member A"
      ],
      "metadata": {
        "id": "wfsjPCZDcoZS"
      }
    },
    {
      "cell_type": "markdown",
      "source": [
        "Question 1 (Black Scholes Model - Close form)\n",
        "\n",
        " 5. The information are S0 = 100; r = 5%; σ = 20%; T = 3 months\n"
      ],
      "metadata": {
        "id": "3Lq1Or84FuAg"
      }
    },
    {
      "cell_type": "code",
      "execution_count": 69,
      "metadata": {
        "id": "Ii19kC-cFkbz"
      },
      "outputs": [],
      "source": [
        "import matplotlib.pyplot as plt\n",
        "import numpy as np\n",
        "from scipy.stats import lognorm, norm\n",
        "import scipy.stats as ss"
      ]
    },
    {
      "cell_type": "markdown",
      "source": [
        "Black Scholes Model (ATM European Call option)"
      ],
      "metadata": {
        "id": "FUdxJZgoGD_9"
      }
    },
    {
      "cell_type": "code",
      "source": [
        "def bs_call_price(S, r, sigma, t, T, K):\n",
        "    ttm = T - t\n",
        "\n",
        "    if ttm < 0:\n",
        "        return 0.0\n",
        "    elif ttm == 0.0:\n",
        "        return np.maximum(S - K, 0.0)\n",
        "\n",
        "    vol = sigma * np.sqrt(ttm)\n",
        "\n",
        "    d_minus = np.log(S / K) + (r - 0.5 * sigma**2) * ttm\n",
        "    d_minus /= vol\n",
        "\n",
        "    d_plus = d_minus + vol\n",
        "\n",
        "    res = S * norm.cdf(d_plus)\n",
        "    res -= K * np.exp(-r * ttm) * norm.cdf(d_minus)\n",
        "\n",
        "    return res"
      ],
      "metadata": {
        "id": "VcJZIa3gGDcO"
      },
      "execution_count": 70,
      "outputs": []
    },
    {
      "cell_type": "code",
      "source": [
        "print(bs_call_price(100.0, 0.05, 0.2, 0, 3/12, 100.0))"
      ],
      "metadata": {
        "colab": {
          "base_uri": "https://localhost:8080/"
        },
        "id": "wY_z4r5yGQH4",
        "outputId": "8aee7e09-a7f6-422e-ba63-47c6f6c97225"
      },
      "execution_count": 71,
      "outputs": [
        {
          "output_type": "stream",
          "name": "stdout",
          "text": [
            "4.6149971296028625\n"
          ]
        }
      ]
    },
    {
      "cell_type": "markdown",
      "source": [
        "Black Scholes Model (ATM European Put option)"
      ],
      "metadata": {
        "id": "-qJdyY5PHBSA"
      }
    },
    {
      "cell_type": "code",
      "source": [
        "def bs_put_price(S, r, sigma, t, T, K):\n",
        "    ttm = T - t\n",
        "\n",
        "    if ttm < 0:\n",
        "        return 0.0\n",
        "    elif ttm == 0.0:\n",
        "        return np.maximum(K - S, 0.0)\n",
        "\n",
        "    vol = sigma * np.sqrt(ttm)\n",
        "\n",
        "    d_minus = np.log(S / K) + (r - 0.5 * sigma**2) * ttm\n",
        "    d_minus /= vol\n",
        "\n",
        "    d_plus = d_minus + vol\n",
        "\n",
        "    res = K * np.exp(-r * ttm) * norm.cdf(-d_minus)\n",
        "\n",
        "    res -= S * norm.cdf(-d_plus)\n",
        "\n",
        "    return res"
      ],
      "metadata": {
        "id": "VywEE6WEGkeW"
      },
      "execution_count": 72,
      "outputs": []
    },
    {
      "cell_type": "code",
      "source": [
        "print(bs_put_price(100.0, 0.05, 0.2, 0, 3/12, 100.0))"
      ],
      "metadata": {
        "colab": {
          "base_uri": "https://localhost:8080/"
        },
        "id": "Eh-ls4ubJCwG",
        "outputId": "48cc9a54-42f1-45ee-b86f-696bec4c7a0c"
      },
      "execution_count": 73,
      "outputs": [
        {
          "output_type": "stream",
          "name": "stdout",
          "text": [
            "3.372777178991008\n"
          ]
        }
      ]
    },
    {
      "cell_type": "markdown",
      "source": [
        "Using the black shores model in calculating call and put option price for European option. The outputs were similar to the calculation in GWP 1 which are $$4.61 and $3.37 for call and put option, respectively."
      ],
      "metadata": {
        "id": "i2Nmt046PVNX"
      }
    },
    {
      "cell_type": "markdown",
      "source": [
        "b. It does not requires to use the number of steps to determine the best fit option price. The only information that required are underlying price, strike price, volatility, maturity time and sigma.\n",
        "\n",
        "It requires to calculate d1 (d_plus) and d2 (d_minus), and the formula has provided in the previous section.\n",
        "\n",
        "Initially, it calculates d2 by adopting log of underlying price divide by strike price plus with risk free rate minus squared of sigma divide by 2, the total of the output will divide by sigma times with squared root of duration differences.\n",
        "\n",
        "To obtain d1, use d2 add with sigma times with squared root of times differences. The output of d1 and d2 will be allocated inside the formula either call and put option to calculate the premium.\n"
      ],
      "metadata": {
        "id": "725ZTw1hac3J"
      }
    },
    {
      "cell_type": "markdown",
      "source": [
        "# Question 6"
      ],
      "metadata": {
        "id": "nejtYyP7L5ho"
      }
    },
    {
      "cell_type": "markdown",
      "source": [
        "a. European call option"
      ],
      "metadata": {
        "id": "e6VXhihAMXWq"
      }
    },
    {
      "cell_type": "code",
      "source": [
        "T = 3/12  # supposed in years. It is not the maturity, but the time to maturity\n",
        "S = 100.0\n",
        "K = 100.0\n",
        "r = 0.05\n",
        "vol = 0.20  # supposing it is annual\n",
        "option_type = \"C\"  # for the put insert 'P'\n",
        "# dividend yield assumed to be 0\n",
        "\n",
        "# Compute d1 and d2\n",
        "d1 = (np.log(S / K) + (r + 0.5 * vol**2) * T) / (vol * np.sqrt(T))\n",
        "d2 = d1 - vol * np.sqrt(T)\n",
        "\n",
        "if option_type in [\"C\", \"P\"]:\n",
        "    if option_type in [\"C\"]:\n",
        "        Opt_Price = S * ss.norm.cdf(d1) - K * np.exp(-r * T) * ss.norm.cdf(d2)\n",
        "        Delta = ss.norm.cdf(d1)\n",
        "        Gamma = ss.norm.pdf(d1) / (S * vol * np.sqrt(T))\n",
        "        Vega = S * ss.norm.pdf(d1) * np.sqrt(T)\n",
        "        Theta = -(S * ss.norm.pdf(d1) * vol) / (2 * np.sqrt(T)) - r * K * np.exp(\n",
        "            -r * T\n",
        "        ) * ss.norm.cdf(d2)\n",
        "        Rho = K * T * np.exp(-r * T) * ss.norm.cdf(d2)\n",
        "    else:\n",
        "        Opt_Price = K * np.exp(-r * T) * ss.norm.cdf(-d2) - S * ss.norm.cdf(-d1)\n",
        "        Delta = -ss.norm.cdf(-d1)\n",
        "        Gamma = ss.norm.pdf(d1) / (S * vol * np.sqrt(T))\n",
        "        Vega = S * ss.norm.pdf(d1) * np.sqrt(T)\n",
        "        Theta = -(S * ss.norm.pdf(d1) * vol) / (2 * np.sqrt(T)) + r * K * np.exp(\n",
        "            -r * T\n",
        "        ) * ss.norm.cdf(-d2)\n",
        "        Rho = -K * T * np.exp(-r * T) * ss.norm.cdf(-d2)\n",
        "else:\n",
        "    Opt_Price = \"Error: option type incorrect. Choose P for a put option or C for a call option.\"\n",
        "\n",
        "print(\"Option price = {}\".format(Opt_Price))\n",
        "print(\"Delta = {}\".format(Delta))\n",
        "print(\"Gamma = {}\".format(Gamma))\n",
        "print(\"Vega = {}\".format(Vega))\n",
        "print(\"Theta = {}\".format(Theta))\n",
        "print(\"Rho = {}\".format(Rho))"
      ],
      "metadata": {
        "colab": {
          "base_uri": "https://localhost:8080/"
        },
        "id": "cHzIA-IFJFMP",
        "outputId": "8a186bd6-aa33-4a63-84e6-50e1038e435c"
      },
      "execution_count": 74,
      "outputs": [
        {
          "output_type": "stream",
          "name": "stdout",
          "text": [
            "Option price = 4.614997129602855\n",
            "Delta = 0.5694601832076737\n",
            "Gamma = 0.03928800094473793\n",
            "Vega = 19.644000472368965\n",
            "Theta = -10.474151248505812\n",
            "Rho = 13.082755297791127\n"
          ]
        }
      ]
    },
    {
      "cell_type": "code",
      "source": [
        "T = 3/12  # supposed in years. It is not the maturity, but the time to maturity\n",
        "S = 100.0\n",
        "K = 100.0\n",
        "r = 0.05\n",
        "vol = 0.20  # supposing it is annual\n",
        "option_type = \"P\"  # for the put insert 'P'\n",
        "# dividend yield assumed to be 0\n",
        "\n",
        "# Compute d1 and d2\n",
        "d1 = (np.log(S / K) + (r + 0.5 * vol**2) * T) / (vol * np.sqrt(T))\n",
        "d2 = d1 - vol * np.sqrt(T)\n",
        "\n",
        "if option_type in [\"C\", \"P\"]:\n",
        "    if option_type in [\"C\"]:\n",
        "        Opt_Price = S * ss.norm.cdf(d1) - K * np.exp(-r * T) * ss.norm.cdf(d2)\n",
        "        Delta = ss.norm.cdf(d1)\n",
        "        Gamma = ss.norm.pdf(d1) / (S * vol * np.sqrt(T))\n",
        "        Vega = S * ss.norm.pdf(d1) * np.sqrt(T)\n",
        "        Theta = -(S * ss.norm.pdf(d1) * vol) / (2 * np.sqrt(T)) - r * K * np.exp(\n",
        "            -r * T\n",
        "        ) * ss.norm.cdf(d2)\n",
        "        Rho = K * T * np.exp(-r * T) * ss.norm.cdf(d2)\n",
        "    else:\n",
        "        Opt_Price = K * np.exp(-r * T) * ss.norm.cdf(-d2) - S * ss.norm.cdf(-d1)\n",
        "        Delta = -ss.norm.cdf(-d1)\n",
        "        Gamma = ss.norm.pdf(d1) / (S * vol * np.sqrt(T))\n",
        "        Vega = S * ss.norm.pdf(d1) * np.sqrt(T)\n",
        "        Theta = -(S * ss.norm.pdf(d1) * vol) / (2 * np.sqrt(T)) + r * K * np.exp(\n",
        "            -r * T\n",
        "        ) * ss.norm.cdf(-d2)\n",
        "        Rho = -K * T * np.exp(-r * T) * ss.norm.cdf(-d2)\n",
        "else:\n",
        "    Opt_Price = \"Error: option type incorrect. Choose P for a put option or C for a call option.\"\n",
        "\n",
        "print(\"Option price = {}\".format(Opt_Price))\n",
        "print(\"Delta = {}\".format(Delta))\n",
        "print(\"Gamma = {}\".format(Gamma))\n",
        "print(\"Vega = {}\".format(Vega))\n",
        "print(\"Theta = {}\".format(Theta))\n",
        "print(\"Rho = {}\".format(Rho))"
      ],
      "metadata": {
        "colab": {
          "base_uri": "https://localhost:8080/"
        },
        "id": "EuBw7TkLMbuV",
        "outputId": "3ca1c912-edd0-42ae-bb67-6ddf02dd6f73"
      },
      "execution_count": 75,
      "outputs": [
        {
          "output_type": "stream",
          "name": "stdout",
          "text": [
            "Option price = 3.372777178991008\n",
            "Delta = -0.43053981679232634\n",
            "Gamma = 0.03928800094473793\n",
            "Vega = 19.644000472368965\n",
            "Theta = -5.536262246036404\n",
            "Rho = -11.60668971455591\n"
          ]
        }
      ]
    },
    {
      "cell_type": "markdown",
      "source": [
        "The delta value is calculating by measuring the sensitivity to underlying stock price.  The call option’s delta is using the partial derivative of call divide by partial derivative of stock price which equal to cumulative density function of d1.\n",
        "\n",
        "The put option’s delta is using the partial derivative of put divide by partial derivative of stock price which equal to cumulative density function of d1 minus 1.\n"
      ],
      "metadata": {
        "id": "lDeBDNV4PQnG"
      }
    },
    {
      "cell_type": "markdown",
      "source": [
        "b. The Greek delta’s value in Black Scholes have slightly different of 0.0003 that more than GWP1’s method.\n",
        "\n",
        "Greek delta’s value in Black Scholes shows 0.5694 and -0.4305 of call and put option respectively at T0. The delta value provides the signal to buyer or seller on how much the shares of option need to buy or sell at initial stage to achieve either ATM and ITM. As people probably may not consider to target or exercise OTM option."
      ],
      "metadata": {
        "id": "AHEsm2fBaimD"
      }
    },
    {
      "cell_type": "markdown",
      "source": [
        "#Question 7\n",
        "\n",
        "Volatility increse to 0.25"
      ],
      "metadata": {
        "id": "qLSJKRaORWvU"
      }
    },
    {
      "cell_type": "code",
      "source": [
        "print(bs_call_price(100.0, 0.05, 0.25, 0, 3/12, 100.0))\n",
        "print(bs_put_price(100.0, 0.05, 0.25, 0, 3/12, 100.0))"
      ],
      "metadata": {
        "colab": {
          "base_uri": "https://localhost:8080/"
        },
        "id": "mxsSKeOQM9Jp",
        "outputId": "338330f8-9ace-46ed-faf4-96b806cb2907"
      },
      "execution_count": 76,
      "outputs": [
        {
          "output_type": "stream",
          "name": "stdout",
          "text": [
            "5.598400241450669\n",
            "4.356180290838807\n"
          ]
        }
      ]
    },
    {
      "cell_type": "markdown",
      "source": [
        "As shown from the above, the option prices for call and put also increase from \"$4.61 to $5.60 and $3.37 to $4.36\", respectively. Increase of option prices are still within expectation as the seller requires to bear more risk. As an exchange, the premium will be increased."
      ],
      "metadata": {
        "id": "cAL7aG7aS4qV"
      }
    },
    {
      "cell_type": "code",
      "source": [
        "T = 3/12  # supposed in years. It is not the maturity, but the time to maturity\n",
        "S = 100.0\n",
        "K = 100.0\n",
        "r = 0.05\n",
        "vol = 0.25  # supposing it is annual\n",
        "option_type = \"C\"  # for the put insert 'P'\n",
        "# dividend yield assumed to be 0\n",
        "\n",
        "# Compute d1 and d2\n",
        "d1 = (np.log(S / K) + (r + 0.5 * vol**2) * T) / (vol * np.sqrt(T))\n",
        "d2 = d1 - vol * np.sqrt(T)\n",
        "\n",
        "if option_type in [\"C\", \"P\"]:\n",
        "    if option_type in [\"C\"]:\n",
        "        Opt_Price = S * ss.norm.cdf(d1) - K * np.exp(-r * T) * ss.norm.cdf(d2)\n",
        "        Delta = ss.norm.cdf(d1)\n",
        "        Gamma = ss.norm.pdf(d1) / (S * vol * np.sqrt(T))\n",
        "        Vega = S * ss.norm.pdf(d1) * np.sqrt(T)\n",
        "        Theta = -(S * ss.norm.pdf(d1) * vol) / (2 * np.sqrt(T)) - r * K * np.exp(\n",
        "            -r * T\n",
        "        ) * ss.norm.cdf(d2)\n",
        "        Rho = K * T * np.exp(-r * T) * ss.norm.cdf(d2)\n",
        "    else:\n",
        "        Opt_Price = K * np.exp(-r * T) * ss.norm.cdf(-d2) - S * ss.norm.cdf(-d1)\n",
        "        Delta = -ss.norm.cdf(-d1)\n",
        "        Gamma = ss.norm.pdf(d1) / (S * vol * np.sqrt(T))\n",
        "        Vega = S * ss.norm.pdf(d1) * np.sqrt(T)\n",
        "        Theta = -(S * ss.norm.pdf(d1) * vol) / (2 * np.sqrt(T)) + r * K * np.exp(\n",
        "            -r * T\n",
        "        ) * ss.norm.cdf(-d2)\n",
        "        Rho = -K * T * np.exp(-r * T) * ss.norm.cdf(-d2)\n",
        "else:\n",
        "    Opt_Price = \"Error: option type incorrect. Choose P for a put option or C for a call option.\"\n",
        "\n",
        "print(\"Option price = {}\".format(Opt_Price))\n",
        "print(\"Delta = {}\".format(Delta))\n",
        "print(\"Gamma = {}\".format(Gamma))\n",
        "print(\"Vega = {}\".format(Vega))\n",
        "print(\"Theta = {}\".format(Theta))\n",
        "print(\"Rho = {}\".format(Rho))"
      ],
      "metadata": {
        "colab": {
          "base_uri": "https://localhost:8080/"
        },
        "id": "fo1MbJXCRlhC",
        "outputId": "dfd41bca-a809-4fbd-b585-8ec3ccbfbcb0"
      },
      "execution_count": 77,
      "outputs": [
        {
          "output_type": "stream",
          "name": "stdout",
          "text": [
            "Option price = 5.598400241450669\n",
            "Delta = 0.5645439358620384\n",
            "Gamma = 0.031496769230776885\n",
            "Vega = 19.685480769235554\n",
            "Theta = -12.385540051855436\n",
            "Rho = 12.713998336188293\n"
          ]
        }
      ]
    },
    {
      "cell_type": "code",
      "source": [
        "T = 3/12  # supposed in years. It is not the maturity, but the time to maturity\n",
        "S = 100.0\n",
        "K = 100.0\n",
        "r = 0.05\n",
        "vol = 0.25  # supposing it is annual\n",
        "option_type = \"P\"  # for the put insert 'P'\n",
        "# dividend yield assumed to be 0\n",
        "\n",
        "# Compute d1 and d2\n",
        "d1 = (np.log(S / K) + (r + 0.5 * vol**2) * T) / (vol * np.sqrt(T))\n",
        "d2 = d1 - vol * np.sqrt(T)\n",
        "\n",
        "if option_type in [\"C\", \"P\"]:\n",
        "    if option_type in [\"C\"]:\n",
        "        Opt_Price = S * ss.norm.cdf(d1) - K * np.exp(-r * T) * ss.norm.cdf(d2)\n",
        "        Delta = ss.norm.cdf(d1)\n",
        "        Gamma = ss.norm.pdf(d1) / (S * vol * np.sqrt(T))\n",
        "        Vega = S * ss.norm.pdf(d1) * np.sqrt(T)\n",
        "        Theta = -(S * ss.norm.pdf(d1) * vol) / (2 * np.sqrt(T)) - r * K * np.exp(\n",
        "            -r * T\n",
        "        ) * ss.norm.cdf(d2)\n",
        "        Rho = K * T * np.exp(-r * T) * ss.norm.cdf(d2)\n",
        "    else:\n",
        "        Opt_Price = K * np.exp(-r * T) * ss.norm.cdf(-d2) - S * ss.norm.cdf(-d1)\n",
        "        Delta = -ss.norm.cdf(-d1)\n",
        "        Gamma = ss.norm.pdf(d1) / (S * vol * np.sqrt(T))\n",
        "        Vega = S * ss.norm.pdf(d1) * np.sqrt(T)\n",
        "        Theta = -(S * ss.norm.pdf(d1) * vol) / (2 * np.sqrt(T)) + r * K * np.exp(\n",
        "            -r * T\n",
        "        ) * ss.norm.cdf(-d2)\n",
        "        Rho = -K * T * np.exp(-r * T) * ss.norm.cdf(-d2)\n",
        "else:\n",
        "    Opt_Price = \"Error: option type incorrect. Choose P for a put option or C for a call option.\"\n",
        "\n",
        "print(\"Option price = {}\".format(Opt_Price))\n",
        "print(\"Delta = {}\".format(Delta))\n",
        "print(\"Gamma = {}\".format(Gamma))\n",
        "print(\"Vega = {}\".format(Vega))\n",
        "print(\"Theta = {}\".format(Theta))\n",
        "print(\"Rho = {}\".format(Rho))"
      ],
      "metadata": {
        "colab": {
          "base_uri": "https://localhost:8080/"
        },
        "id": "Vdoas_iCTDCy",
        "outputId": "a755bcec-063e-4382-ac48-a9ab45d170e2"
      },
      "execution_count": 78,
      "outputs": [
        {
          "output_type": "stream",
          "name": "stdout",
          "text": [
            "Option price = 4.356180290838807\n",
            "Delta = -0.43545606413796156\n",
            "Gamma = 0.031496769230776885\n",
            "Vega = 19.685480769235554\n",
            "Theta = -7.447651049386028\n",
            "Rho = -11.975446676158741\n"
          ]
        }
      ]
    },
    {
      "cell_type": "markdown",
      "source": [
        "# Vega comparison"
      ],
      "metadata": {
        "id": "MGIaCUs9W39d"
      }
    },
    {
      "cell_type": "markdown",
      "source": [
        "\n",
        "It used to measure the change in the option’s price by 1% increment.  \n",
        "Call option\n",
        "Vega = 19.644000472368965 - (0.20)\n",
        "Vega = 19.685480769235554 – (0.25)\n",
        "\n",
        "Put option\n",
        "Vega = 19.644000472368965- (0.20)\n",
        "Vega = 19.685480769235554- (0.25)\n",
        "\n",
        "Both call and put option’s vega (sensitivity of volatility) were increased from 19.64 to 19.69. This means increase with 5% of volatility, the option price for call and put will increase by $0.99 .  \n"
      ],
      "metadata": {
        "id": "vPJ4MUG_W2u0"
      }
    },
    {
      "cell_type": "markdown",
      "source": [
        "# Team member B"
      ],
      "metadata": {
        "id": "xYew-gDIctfU"
      }
    },
    {
      "cell_type": "markdown",
      "source": [
        "European call and put\n",
        "\n",
        "Question 5 (a)"
      ],
      "metadata": {
        "id": "OQphCISycyeS"
      }
    },
    {
      "cell_type": "code",
      "source": [
        "import numpy as np\n",
        "np.random.seed(42)\n",
        "\n",
        "def bs_option_mc(S0, K, r, sigma, T, option_type='C', Ite=10000):\n",
        "    # Parameters\n",
        "    dt = 1/252  # Daily time-step, assuming 252 trading days in a year\n",
        "    steps = int(T / dt)  # Number of time-steps\n",
        "\n",
        "    # Simulating the asset paths\n",
        "    ST = np.zeros(Ite)\n",
        "    for i in range(Ite):\n",
        "        S = S0\n",
        "        for t in range(steps):\n",
        "            z = np.random.normal()\n",
        "            S = S * np.exp((r - 0.5 * sigma**2) * dt + sigma * np.sqrt(dt) * z)\n",
        "        ST[i] = S\n",
        "\n",
        "    # Calculate the payoff\n",
        "    if option_type == 'C':\n",
        "        payoff = np.maximum(ST - K, 0)\n",
        "    else:  # option_type == 'P'\n",
        "        payoff = np.maximum(K - ST, 0)\n",
        "\n",
        "    # Discounted average payoff\n",
        "    option_price = np.exp(-r * T) * np.mean(payoff)\n",
        "\n",
        "    return option_price\n",
        "\n",
        "# Parameters\n",
        "S0 = 100  # Initial stock price\n",
        "r = 0.05  # Risk-free rate\n",
        "sigma = 0.20  # Volatility\n",
        "T = 3/12  # Time to maturity in years (3 months)\n",
        "K = S0  # ATM option, strike price is equal to the initial stock price\n",
        "Ite=10000\n",
        "# Pricing the call and put options\n",
        "call_price = bs_option_mc(S0, K, r, sigma, T, option_type='C', Ite=Ite)\n",
        "put_price = bs_option_mc(S0, K, r, sigma, T, option_type='P', Ite=Ite)\n",
        "\n",
        "call_price, put_price\n",
        "print(f\"European call price and put price are : {round(call_price,2)} and {round(put_price,2)} respectively\")\n"
      ],
      "metadata": {
        "colab": {
          "base_uri": "https://localhost:8080/"
        },
        "id": "oPtp4oCWcxNU",
        "outputId": "cb1c30f9-df23-4bd8-ee22-4dbdbfe979aa"
      },
      "execution_count": 79,
      "outputs": [
        {
          "output_type": "stream",
          "name": "stdout",
          "text": [
            "European call price and put price are : 4.56 and 3.41 respectively\n"
          ]
        }
      ]
    },
    {
      "cell_type": "markdown",
      "source": [
        "Question 5 (b)\n",
        "\n",
        "The function prices the call and put prices for European option using GBM process using Monte Carlo method. It has paramaters; initial stock price  S0 , strike price  K , risk-free rate  r , volatility  σ , time to maturity  T , and the number of iterations  Ite\n",
        "\n",
        "Assuming 252 trading days, dt=1/252 A simulation of asset price is run based on GBM model and payoffs calculated at maturity.\n",
        "\n",
        "Option price is then discounted to get the present value.\n",
        "\n",
        "10,000 simulations were used to get a high level of accuracy and reliability in option pricing estimation."
      ],
      "metadata": {
        "id": "FIIlAQyec0_c"
      }
    },
    {
      "cell_type": "markdown",
      "source": [
        "Question 6(a)"
      ],
      "metadata": {
        "id": "_4vcFlJKc1l-"
      }
    },
    {
      "cell_type": "code",
      "source": [
        "# Compute d1 and d2\n",
        "d1 = (np.log(S0 / K) + (r + 0.5 * sigma**2) * T) / (sigma * np.sqrt(T))\n",
        "d2 = d1 - sigma * np.sqrt(T)\n",
        "\n",
        "Delta_call_option = ss.norm.cdf(d1)\n",
        "Delta_put_option = -ss.norm.cdf(-d1)\n",
        "\n",
        "\n",
        "print(f\"The Greek Delta for call option and put option are : {round(Delta_call_option,2)} and {round(Delta_put_option,2)} respectively\")"
      ],
      "metadata": {
        "colab": {
          "base_uri": "https://localhost:8080/"
        },
        "id": "SsOO57-mc3QD",
        "outputId": "390bf40c-e97c-4d93-899a-088b92e731a1"
      },
      "execution_count": 80,
      "outputs": [
        {
          "output_type": "stream",
          "name": "stdout",
          "text": [
            "The Greek Delta for call option and put option are : 0.57 and -0.43 respectively\n"
          ]
        }
      ]
    },
    {
      "cell_type": "markdown",
      "source": [
        "Question 6(b)\n",
        "\n",
        "The delta for call option is a positive (0.57) whereas that of put option is a negative (-0.43). This is because a call option value increases as value of underlying increases and for put option, the value decreases as underlying increases.\n",
        "\n",
        "Delta proxies for hedge ratio, showing amount of underlying asset needed to hedge an option. A positive delta makes sense for a call option as it has a positive response to underlying value movement whereas a negative delta makes sense for put option as it responds opposite to the movement in underlying value"
      ],
      "metadata": {
        "id": "SRwQkEPSc5n7"
      }
    },
    {
      "cell_type": "markdown",
      "source": [
        "Question 7(a)"
      ],
      "metadata": {
        "id": "vqNa7Zssc7J6"
      }
    },
    {
      "cell_type": "code",
      "source": [
        "sigma = 0.25\n",
        "np.random.seed(42)\n",
        "\n",
        "# Compute d1 and d2\n",
        "d1 = (np.log(S0 / K) + (r + 0.5 * sigma**2) * T) / (sigma * np.sqrt(T))\n",
        "d2 = d1 - sigma * np.sqrt(T)\n",
        "Vega = S0 * ss.norm.pdf(d1) * np.sqrt(T)\n",
        "\n",
        "# Pricing the call and put options\n",
        "call_price = round(bs_option_mc(S0, K, r, sigma, T, option_type='C', Ite=10000),2)\n",
        "put_price = round(bs_option_mc(S0, K, r, sigma, T, option_type='P', Ite=10000),2)\n",
        "\n",
        "\n",
        "print(f\"Vega is: {round(Vega,2)}\")\n",
        "print(\"The initial European call price and put price are : 4.56 and 3.41 respectively\")\n",
        "print(f\"European_call_price and put price are : {call_price} and {put_price} respectively\")"
      ],
      "metadata": {
        "colab": {
          "base_uri": "https://localhost:8080/"
        },
        "id": "ES73fUAoc8LO",
        "outputId": "a2be2ed4-3578-47ac-9c2c-d1f8e10a900f"
      },
      "execution_count": 81,
      "outputs": [
        {
          "output_type": "stream",
          "name": "stdout",
          "text": [
            "Vega is: 19.69\n",
            "The initial European call price and put price are : 4.56 and 3.41 respectively\n",
            "European_call_price and put price are : 5.53 and 4.4 respectively\n"
          ]
        }
      ]
    },
    {
      "cell_type": "markdown",
      "source": [
        "The price of call increased from 4.56 to 5.53 whereas that of put option increased from 3.41 to 4.4. Therefore, the prices increase with an increase in volatility for both options.\n",
        "\n",
        "Question 7(b)\n",
        "\n",
        "With an identical vega of 19.69 using the 5% increase in volatility, the absolute change for both put and call options are uniform. However, relative change depends on other factors like delta, initial underlying stock."
      ],
      "metadata": {
        "id": "c-isx3d9c982"
      }
    },
    {
      "cell_type": "markdown",
      "source": [
        "# Team member C"
      ],
      "metadata": {
        "id": "s6dFqzAHg57l"
      }
    },
    {
      "cell_type": "markdown",
      "source": [
        "#Question 3(a)"
      ],
      "metadata": {
        "id": "6Y-8HpV8hhJJ"
      }
    },
    {
      "cell_type": "markdown",
      "source": [
        "Put-Call Parity in Black-Scholes vs Monte-Carlo Methods\n",
        "\n",
        "Put-Call Parity:        \n",
        "$C_0 + Ke^{-rT} = S_0 + P_0$"
      ],
      "metadata": {
        "id": "81Ks3A9JhB1o"
      }
    },
    {
      "cell_type": "markdown",
      "source": [
        "Outputs from Step1.1 :\n",
        "##### Black Scholes Model European Option Prices:\n",
        "call_price = 4.61\\\n",
        "put_price = 3.37\n",
        "\n",
        "With a 5% increase in volatility (from 20% to 25%)\\\n",
        "call_price = 5.60\\\n",
        "put_price = 4.36\n",
        "\n",
        "##### Check for Put-Call Parity"
      ],
      "metadata": {
        "id": "XEG9rviEhJPz"
      }
    },
    {
      "cell_type": "code",
      "source": [
        "# Black Scholes Model ATM European\n",
        "call_price = 4.61\n",
        "put_price = 3.37\n",
        "K = 100\n",
        "S0 = 100\n",
        "𝑟 = 0.05\n",
        "𝑇 = 3/12\n",
        "\n",
        "print(\"call side =\", round(call_price + K * np.exp(-0.05 * 0.25),2))\n",
        "print(\"put side =\", round(100 + put_price, 2))\n",
        "\n",
        "# Check if put-call parity holds\n",
        "if round(call_price + K * np.exp(-0.05 * 0.25), 2) == round(100 + put_price, 2):\n",
        "   print(f\"At K={K}: Put-Call Parity holds\")\n",
        "\n",
        "else:\n",
        "      print(f\"At K={K}: Put-Call Parity does not hold\")"
      ],
      "metadata": {
        "colab": {
          "base_uri": "https://localhost:8080/"
        },
        "id": "3zhkw60_hKwU",
        "outputId": "13c96d8d-1724-4635-dcce-8ad0b945fb8a"
      },
      "execution_count": 82,
      "outputs": [
        {
          "output_type": "stream",
          "name": "stdout",
          "text": [
            "call side = 103.37\n",
            "put side = 103.37\n",
            "At K=100: Put-Call Parity holds\n"
          ]
        }
      ]
    },
    {
      "cell_type": "code",
      "source": [
        "# With a 5% increase in volatility (from 20% to 25%)\n",
        "call_price = 5.60\n",
        "put_price = 4.36\n",
        "\n",
        "print(\"Call side =\", round(call_price + K * np.exp(-0.05 * 0.25),2))\n",
        "print(\"Put side =\", round(100 + put_price, 2))\n",
        "\n",
        "# Check if put-call parity holds\n",
        "if round(call_price + K * np.exp(-0.05 * 0.25), 2) == round(100 + put_price, 2):\n",
        "   print(f\"At K={K}: Put-Call Parity holds\")\n",
        "\n",
        "else:\n",
        "      print(f\"At K={K}: Put-Call Parity does not hold\")"
      ],
      "metadata": {
        "colab": {
          "base_uri": "https://localhost:8080/"
        },
        "id": "vA0tUgilheP2",
        "outputId": "06e2ff0e-2864-41bf-88a1-10d00726cf19"
      },
      "execution_count": 83,
      "outputs": [
        {
          "output_type": "stream",
          "name": "stdout",
          "text": [
            "Call side = 104.36\n",
            "Put side = 104.36\n",
            "At K=100: Put-Call Parity holds\n"
          ]
        }
      ]
    },
    {
      "cell_type": "markdown",
      "source": [
        "### Step 1.3 b\n",
        "### Converge of BS and MC methods"
      ],
      "metadata": {
        "id": "vPjCnyS-hmVQ"
      }
    },
    {
      "cell_type": "code",
      "source": [
        "# Black Scholes Model European Call and Put Option Prices with σ=20% and 25%, respectively:\n",
        "data1 = [4.61, 3.37, 5.60, 4.36]\n",
        "# Monte-Carlo method European Call and Put Option Prices with σ=20% and 25%, respectively:\n",
        "data2 = [4.62, 3.35, 5.70, 4.34 ]\n",
        "\n",
        "difference = np.array(data2) - np.array(data1)\n",
        "percentage_difference = np.round((difference / np.array(data1)) * 100, 2)\n",
        "print(\"Black Scholes Model and Monte-Carlo method Option Price Difference:\", difference)\n",
        "print(\"Black Scholes Model and Monte-Carlo method Option Price Difference%:\", percentage_difference)"
      ],
      "metadata": {
        "colab": {
          "base_uri": "https://localhost:8080/"
        },
        "id": "48BzZrMahnU-",
        "outputId": "052e19c3-c890-46de-843e-54e75d215c4c"
      },
      "execution_count": 84,
      "outputs": [
        {
          "output_type": "stream",
          "name": "stdout",
          "text": [
            "Black Scholes Model and Monte-Carlo method Option Price Difference: [ 0.01 -0.02  0.1  -0.02]\n",
            "Black Scholes Model and Monte-Carlo method Option Price Difference%: [ 0.22 -0.59  1.79 -0.46]\n"
          ]
        }
      ]
    },
    {
      "cell_type": "markdown",
      "source": [
        "##### ** Observation **\n",
        "Above results show small differences of option prices between Black Scholes Model and Monte-Carlo methods,\\\n",
        "therefore these two methods converge.\n",
        "\n",
        "The Black-Scholes Model assumes that the price of the underlying asset follows a geometric Brownian motion, it offers a closed-form solution to calculate the option prices. While the Monte Carlo method, is a numerical method that uses random sampling to simulate the possible paths of the underlying asset price. By generating a large number of random paths and calculating the option payoffs along these paths, the Monte Carlo method can estimate the expected option price.\n",
        "\n",
        "Although the two methods are conceptually different, they are both based on the same assumptions about the behavior of the underlying asset price, including: The both models that the underlying asset price follow continuous movement, random walk and the returns of the underlying asset price are normally distributed; it’s also assumed by both methods that there are no arbitrage opportunities and the volatility is constant over a period of time under question.\n",
        "\n",
        "These assumptions provide a simplified framework for pricing. As a result, when the number of simulations in the Monte Carlo method is large enough, the estimated option price will converge to the theoretical price predicted by the Black-Scholes Model.\n",
        "\n",
        "In reality, more complex models may be required."
      ],
      "metadata": {
        "id": "HNKFzG96hqMi"
      }
    },
    {
      "cell_type": "markdown",
      "source": [
        "# Step 2"
      ],
      "metadata": {
        "id": "-rg1KrC6eQsR"
      }
    },
    {
      "cell_type": "markdown",
      "source": [
        "# Team member A"
      ],
      "metadata": {
        "id": "3skktkGzdBDJ"
      }
    },
    {
      "cell_type": "markdown",
      "source": [
        "# Question 5"
      ],
      "metadata": {
        "id": "vuZpfJdwxJYi"
      }
    },
    {
      "cell_type": "code",
      "source": [
        "def american_option_mc(S, K, r, sigma, T, t, Ite, steps):\n",
        "    np.random.seed(40)\n",
        "    dt = (T - t) / steps\n",
        "    discount = np.exp(-r * dt)\n",
        "\n",
        "    # Generate simulated price paths\n",
        "    ST = np.zeros((Ite, steps + 1))\n",
        "    ST[:, 0] = S\n",
        "    for i in range(1, steps + 1):\n",
        "        z = np.random.normal(0, 1, Ite)\n",
        "        ST[:, i] = ST[:, i - 1] * np.exp((r - 0.5 * sigma**2) * dt + sigma * np.sqrt(dt) * z)\n",
        "\n",
        "    # Initialize payoff matrix\n",
        "    payoff = np.maximum(0, ST - K)\n",
        "\n",
        "    # Initialize cashflows with terminal payoff\n",
        "    cashflows = payoff[:, -1]\n",
        "\n",
        "    for i in range(steps - 1, 0, -1):\n",
        "        # Identify in-the-money paths\n",
        "        in_the_money = payoff[:, i] > 0\n",
        "        X = ST[in_the_money, i]\n",
        "        Y = cashflows[in_the_money] * discount\n",
        "\n",
        "        # Fit regression model to estimate continuation value\n",
        "        if len(X) == 0:\n",
        "            continue\n",
        "        reg = np.polyfit(X, Y, 2)\n",
        "        continuation_value = np.polyval(reg, X)\n",
        "\n",
        "        # Update cashflows: max of immediate exercise and continuation value\n",
        "        cashflows[in_the_money] = np.maximum(payoff[in_the_money, i], continuation_value)\n",
        "        cashflows[~in_the_money] *= discount\n",
        "\n",
        "    # Discount the first time step\n",
        "    cashflows *= discount\n",
        "\n",
        "    return np.mean(cashflows)\n",
        "\n",
        "\n",
        "american_option_mc(100, 100, 0.05, 0.2, 3/12, 0, 10000, 100)"
      ],
      "metadata": {
        "colab": {
          "base_uri": "https://localhost:8080/"
        },
        "id": "Dm66fgUF5b7z",
        "outputId": "245d2914-4211-4571-e687-327e090ef430"
      },
      "execution_count": 85,
      "outputs": [
        {
          "output_type": "execute_result",
          "data": {
            "text/plain": [
              "4.748150851977084"
            ]
          },
          "metadata": {},
          "execution_count": 85
        }
      ]
    },
    {
      "cell_type": "markdown",
      "source": [
        "The codes were showing American call option that using monte Carlo method to calculate the option price. American call option prices are always higher than European due to its flexibility of exercise the option at anytime before the maturity time.\n",
        "Compare to the GWP1’s European call prices, American option is $$4.75 which is higher than $4.61.\n",
        "\n",
        "Iterations of 10,000 has been used which demand to increase the accuracy. The number of steps is calculate based on the trading days of 252.\n",
        "\n",
        "\n"
      ],
      "metadata": {
        "id": "zdj-2OhDqNDj"
      }
    },
    {
      "cell_type": "markdown",
      "source": [
        "b. In Monte Carlo method, it does require to use the number of steps to determine the best fit option price. Based on the GWP1’s, the best simulation step is 100 and using to calculate the option price. The only information that required are underlying price, strike price, volatility, maturity time, iteration, number of steps, and sigma.\n",
        "\n",
        "![image.png](data:image/png;base64,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)\n",
        "\n",
        "The formula of Monte Carlo method used to calculate the American option price. To meet the characteristic of American option, it has added polynomial regression and continuation value to calculate the option price that can exercise at any time.\n"
      ],
      "metadata": {
        "id": "VZuSqT2NCVvc"
      }
    },
    {
      "cell_type": "markdown",
      "source": [
        "# Question 6"
      ],
      "metadata": {
        "id": "aZF4GnxbxDaY"
      }
    },
    {
      "cell_type": "code",
      "source": [
        "def monte_carlo_delta(S, K, r, vol, T, Ite):\n",
        "    np.random.seed(40)\n",
        "    dt = T / 252  # Assuming 252 trading days in a year\n",
        "\n",
        "    # Generate simulated price paths\n",
        "    ST = np.zeros((Ite, 2))\n",
        "    for i in range(Ite):\n",
        "        z = np.random.normal(0, 1, 2)\n",
        "        ST[i, 0] = S * np.exp((r - 0.5 * vol**2) * dt + vol * np.sqrt(dt) * z[0])  # Simulated underlying price\n",
        "        ST[i, 1] = S * np.exp((r - 0.5 * vol**2) * dt + vol * np.sqrt(dt) * z[1])  # Simulated underlying price\n",
        "\n",
        "    # Calculate option prices using Monte Carlo methods\n",
        "    Option_Prices = np.maximum(ST - K, 0) * np.exp(-r * T)\n",
        "    Option_Price = np.mean(Option_Prices)\n",
        "\n",
        "    # Delta\n",
        "    Delta = (Option_Prices[:, 0].mean() - Option_Prices[:, 1].mean()) / (S * 0.01)\n",
        "\n",
        "    # Gamma\n",
        "    Gamma = np.mean((Option_Prices[:, 0] - 2 * Option_Price + Option_Prices[:, 1]) / (S ** 2 * 0.01 ** 2))\n",
        "\n",
        "    # Vega\n",
        "    Vega = np.mean(ST[:, 0] * np.sqrt(T) * ss.norm.pdf((np.log(ST[:, 0] / S) + (r + 0.5 * vol ** 2) * T) / (vol * np.sqrt(T))))\n",
        "\n",
        "    # Theta\n",
        "    Theta = (Option_Prices[:, 1].mean() - Option_Prices[:, 0].mean()) / dt\n",
        "\n",
        "    # Rho\n",
        "    Rho = (Option_Prices[:, 0].mean() - Option_Prices[:, 1].mean()) / (2 * r * 0.01)\n",
        "\n",
        "    return Delta, Gamma, Vega, Theta, Rho\n",
        "\n",
        "Delta, Gamma, Vega, Theta, Rho = monte_carlo_delta(100, 100, 0.05, 0.2, 3/12, 10000)\n",
        "\n",
        "print(Delta)\n"
      ],
      "metadata": {
        "colab": {
          "base_uri": "https://localhost:8080/"
        },
        "id": "y-4rqcZD1V0Q",
        "outputId": "c3fe2a6d-0408-4c73-ad38-49e94486a60e"
      },
      "execution_count": 86,
      "outputs": [
        {
          "output_type": "stream",
          "name": "stdout",
          "text": [
            "0.0011071645381142137\n"
          ]
        }
      ]
    },
    {
      "cell_type": "markdown",
      "source": [
        "The Greek delta for American call option is 0.0011 with using Monte Carlo method. The delta value is lesser than GWP1’s European call option’s delta value. The value of 0.0011 suggest to buy 0.0011 of shares with the ATM option."
      ],
      "metadata": {
        "id": "8pdm7tVWCSKN"
      }
    },
    {
      "cell_type": "markdown",
      "source": [
        "# Question 7"
      ],
      "metadata": {
        "id": "hRBKjsDkCQiJ"
      }
    },
    {
      "cell_type": "code",
      "source": [
        "Delta, Gamma, Vega, Theta, Rho = monte_carlo_delta(100, 100, 0.05, 0.20, 3/12, 10000)\n",
        "Vega"
      ],
      "metadata": {
        "colab": {
          "base_uri": "https://localhost:8080/"
        },
        "id": "Q1J-8VDQ9kFW",
        "outputId": "be2cc2ec-e688-45fd-b389-45b16ec7f82a"
      },
      "execution_count": 87,
      "outputs": [
        {
          "output_type": "execute_result",
          "data": {
            "text/plain": [
              "19.605118010837618"
            ]
          },
          "metadata": {},
          "execution_count": 87
        }
      ]
    },
    {
      "cell_type": "code",
      "source": [
        "Delta, Gamma, Vega, Theta, Rho = monte_carlo_delta(100, 100, 0.05, 0.25, 3/12, 10000)\n",
        "Vega"
      ],
      "metadata": {
        "colab": {
          "base_uri": "https://localhost:8080/"
        },
        "id": "qCEJ5_BI8fvx",
        "outputId": "3a663e9d-7478-45c7-a07b-7dc9c7d50f94"
      },
      "execution_count": 88,
      "outputs": [
        {
          "output_type": "execute_result",
          "data": {
            "text/plain": [
              "19.646262090365553"
            ]
          },
          "metadata": {},
          "execution_count": 88
        }
      ]
    },
    {
      "cell_type": "markdown",
      "source": [
        "Both call and put option’s vega (sensitivity of volatility) were increased from 19.61 to 19.65. This means increase with 5% of volatility, the American option price will also be increase."
      ],
      "metadata": {
        "id": "cHaUQPOqCNoZ"
      }
    },
    {
      "cell_type": "markdown",
      "source": [
        "# Team member B"
      ],
      "metadata": {
        "id": "1XNgY65PdH0a"
      }
    },
    {
      "cell_type": "markdown",
      "source": [
        "American Put\n",
        "\n",
        "Question 5(a)"
      ],
      "metadata": {
        "id": "kdMM95sZdLdg"
      }
    },
    {
      "cell_type": "code",
      "source": [
        "np.random.seed(42)\n",
        "\n",
        "def american_put_mc(S0, K, r, sigma, T, Ite=10000):\n",
        "    # Parameters\n",
        "    dt = 1/252  # Daily time-step, assuming 252 trading days in a year\n",
        "    steps = int(T / dt)  # Number of time-steps\n",
        "    discount = np.exp(-r * dt)  # Discount factor per time-step\n",
        "\n",
        "    # Simulating the asset paths\n",
        "    ST = np.zeros((Ite, steps + 1))\n",
        "    ST[:, 0] = S0\n",
        "    for t in range(1, steps + 1):\n",
        "        z = np.random.normal(size=Ite)\n",
        "        ST[:, t] = ST[:, t-1] * np.exp((r - 0.5 * sigma**2) * dt + sigma * np.sqrt(dt) * z)\n",
        "\n",
        "    # Initialize cash flows\n",
        "    cash_flows = np.maximum(K - ST[:, -1], 0)\n",
        "\n",
        "    for t in range(steps - 1, 0, -1):\n",
        "        # Calculate immediate payoff for all paths at time t\n",
        "        immediate_payoff = np.maximum(K - ST[:, t], 0)\n",
        "\n",
        "        # Only consider paths where immediate payoff is greater than 0\n",
        "        in_the_money = immediate_payoff > 0\n",
        "\n",
        "        # If there are no paths in the money, skip to the next time step\n",
        "        if not np.any(in_the_money):\n",
        "            continue\n",
        "\n",
        "        # Discount cash flows from the future\n",
        "        discounted_cash_flows = cash_flows * discount\n",
        "\n",
        "        # Use linear regression to estimate continuation values for paths in the money\n",
        "        X = ST[in_the_money, t]\n",
        "        Y = discounted_cash_flows[in_the_money]\n",
        "        A = np.vstack([np.ones_like(X), X, X**2]).T  # Basis functions: 1, S, S^2\n",
        "        coef = np.linalg.lstsq(A, Y, rcond=None)[0]\n",
        "        continuation_value = coef[0] + coef[1] * X + coef[2] * X**2\n",
        "\n",
        "        # Update cash flows where immediate payoff is greater than continuation value\n",
        "        exercise = immediate_payoff[in_the_money] > continuation_value\n",
        "        cash_flows[in_the_money] = np.where(exercise, immediate_payoff[in_the_money], discounted_cash_flows[in_the_money])\n",
        "\n",
        "    # Discount the final cash flows to present value\n",
        "    option_price = np.mean(cash_flows) * np.exp(-r * T)\n",
        "\n",
        "    return option_price\n",
        "\n",
        "\n",
        "# Pricing the American put option\n",
        "american_put_price = american_put_mc(100, 100, 0.05, 0.2, 3/12, Ite=Ite)\n",
        "\n",
        "print(f\"American put option price is: {round(american_put_price, 2)}\")"
      ],
      "metadata": {
        "colab": {
          "base_uri": "https://localhost:8080/"
        },
        "id": "k_YvG9fNdMQF",
        "outputId": "30000b40-7e6a-4dda-ab74-ef5c7d74bb2b"
      },
      "execution_count": 89,
      "outputs": [
        {
          "output_type": "stream",
          "name": "stdout",
          "text": [
            "American put option price is: 3.47\n"
          ]
        }
      ]
    },
    {
      "cell_type": "markdown",
      "source": [
        "The reason for this put option in positive value is that the volatility increases the posibility that stock price will drop and lesser compare to strike price. Hence, put option become more valuable."
      ],
      "metadata": {
        "id": "VaXK6WT8nyA3"
      }
    },
    {
      "cell_type": "markdown",
      "source": [
        "Question 5(b)\n",
        "\n",
        "In summary the above function estimates the price of an american put using Monte Carlo simulation with daily time steps. It runs multiple price paths of the stock while checking possibility of optimal early exercise and if true, the payoff is obtained. Payoff is discounted at present value, it is then averaged for all the simulations to estimate the american put option. The 10,000 simulation is justified for accuracy and reliability purpose in the estimates\n",
        "\n",
        "Question 6(a)"
      ],
      "metadata": {
        "id": "T_Imm_yDdPao"
      }
    },
    {
      "cell_type": "code",
      "source": [
        "# Compute d1 and d2\n",
        "\n",
        "# Parameters\n",
        "S0 = 100  # Initial stock price\n",
        "r = 0.05  # Risk-free rate\n",
        "sigma = 0.20  # Volatility\n",
        "T = 3/12  # Time to maturity in years (3 months)\n",
        "K = S0  # ATM option, strike price is equal to the initial stock price\n",
        "\n",
        "\n",
        "d1 = (np.log(S0 / K) + (r + 0.5 * sigma**2) * T) / (sigma * np.sqrt(T))\n",
        "d2 = d1 - sigma * np.sqrt(T)\n",
        "\n",
        "Delta_put_option = -ss.norm.cdf(-d1)\n",
        "\n",
        "\n",
        "print(f\"The Greek Delta for american put option is {round(Delta_put_option,2)}\")"
      ],
      "metadata": {
        "colab": {
          "base_uri": "https://localhost:8080/"
        },
        "id": "WvQpQP2fdQdq",
        "outputId": "f778365a-01fb-48d2-a309-a00a8ba2c107"
      },
      "execution_count": 90,
      "outputs": [
        {
          "output_type": "stream",
          "name": "stdout",
          "text": [
            "The Greek Delta for american put option is -0.43\n"
          ]
        }
      ]
    },
    {
      "cell_type": "markdown",
      "source": [
        "Question 6(b)\n",
        "\n",
        "The delta for American put a negative (-0.43). This is because a put option decreases in value as underlying increases.\n",
        "\n",
        "Delta proxies for hedge ratio, showing amount of underlying asset needed to hedge an option. A negative delta makes sense for american put option as it responds opposite to the movement in underlying value"
      ],
      "metadata": {
        "id": "0xDDiNCTdRvG"
      }
    },
    {
      "cell_type": "markdown",
      "source": [
        "Question 7(a)"
      ],
      "metadata": {
        "id": "6Z_ABtQAdTSX"
      }
    },
    {
      "cell_type": "code",
      "source": [
        "sigma = 0.25\n",
        "\n",
        "# Compute d1 and d2\n",
        "d1 = (np.log(S0 / K) + (r + 0.5 * sigma**2) * T) / (sigma * np.sqrt(T))\n",
        "d2 = d1 - sigma * np.sqrt(T)\n",
        "Vega = S0 * ss.norm.pdf(d1) * np.sqrt(T)\n",
        "\n",
        "# Pricing the call and put options\n",
        "put_price = round(american_put_mc(S0, K, r, sigma, T, Ite=10000),2)\n",
        "\n",
        "\n",
        "print(f\"Vega is: {round(Vega,2)}\")\n",
        "print(f\"American put price is {put_price}\")"
      ],
      "metadata": {
        "colab": {
          "base_uri": "https://localhost:8080/"
        },
        "id": "vYhM1d57d5em",
        "outputId": "d5162933-48d0-400c-9e5e-780074a72dea"
      },
      "execution_count": 91,
      "outputs": [
        {
          "output_type": "stream",
          "name": "stdout",
          "text": [
            "Vega is: 19.69\n",
            "American put price is 4.47\n"
          ]
        }
      ]
    },
    {
      "cell_type": "markdown",
      "source": [
        "The price of American put increased from 3.42 to 4.47. Therefore, the price of option increases with an increase in volatility for both options.\n",
        "\n",
        "Question 7(b)\n",
        "\n",
        "Vega is 19.69 using the 5% increase in volatility. However, relative change depends on other factors like delta, initial underlying stock."
      ],
      "metadata": {
        "id": "tpo_RXUWd7Wu"
      }
    },
    {
      "cell_type": "markdown",
      "source": [
        "#Team member C\n",
        "\n",
        "### Step 2.3 a"
      ],
      "metadata": {
        "id": "vd-Sq9ilhvhU"
      }
    },
    {
      "cell_type": "markdown",
      "source": [
        "##### Under Monte-Carlo simulation, price American Call option corresponding to the 5 different strikes selected: 90, 95, 100, 105, 110\n",
        "##### Parameters: 𝑆 = 100; 𝑟 = 5%; σ = 20%; 𝑇 = 3 𝑚𝑜𝑛𝑡ℎ𝑠"
      ],
      "metadata": {
        "id": "aOMH0pePhzOv"
      }
    },
    {
      "cell_type": "code",
      "source": [
        "𝑆 = 100\n",
        "𝑟 = 0.05\n",
        "sigma = 0.2\n",
        "𝑇 = 3/12\n",
        "t = 0\n",
        "Ite = 10000\n",
        "steps = 100\n",
        "\n",
        "def american_option_mc(S, K, r, sigma, T, t, Ite, steps):\n",
        "    np.random.seed(40)\n",
        "    dt = (T - t) / steps\n",
        "    discount = np.exp(-r * dt)\n",
        "\n",
        "    # Generate simulated price paths\n",
        "    ST = np.zeros((Ite, steps + 1))\n",
        "    ST[:, 0] = S\n",
        "    for i in range(1, steps + 1):\n",
        "        z = np.random.normal(0, 1, Ite)\n",
        "        ST[:, i] = ST[:, i - 1] * np.exp((r - 0.5 * sigma**2) * dt + sigma * np.sqrt(dt) * z)\n",
        "\n",
        "    # Initialize payoff matrix\n",
        "    payoff = np.maximum(0, ST - K)\n",
        "\n",
        "    # Initialize cashflows with terminal payoff\n",
        "    cashflows = payoff[:, -1]\n",
        "\n",
        "    for i in range(steps - 1, 0, -1):\n",
        "        # Identify in-the-money paths\n",
        "        in_the_money = payoff[:, i] > 0\n",
        "        X = ST[in_the_money, i]\n",
        "        Y = cashflows[in_the_money] * discount\n",
        "\n",
        "        # Fit regression model to estimate continuation value\n",
        "        if len(X) == 0:\n",
        "            continue\n",
        "        reg = np.polyfit(X, Y, 2)\n",
        "        continuation_value = np.polyval(reg, X)\n",
        "\n",
        "        # Update cashflows: max of immediate exercise and continuation value\n",
        "        cashflows[in_the_money] = np.maximum(payoff[in_the_money, i], continuation_value)\n",
        "        cashflows[~in_the_money] *= discount\n",
        "\n",
        "    # Discount the first time step\n",
        "    cashflows *= discount\n",
        "\n",
        "    # Calculate m = K / S\n",
        "    m = K / S\n",
        "\n",
        "    return np.mean(cashflows), m\n",
        "\n",
        "# Set the values of K\n",
        "K_values = [90, 95, 100, 105, 110]\n",
        "\n",
        "# Create empty lists to store the results\n",
        "results = []\n",
        "m_values = []\n",
        "\n",
        "# Loop through the K values and run the function for each value\n",
        "for K in K_values:\n",
        "    result, m = american_option_mc(S, K, r, sigma, T, t, Ite, steps)\n",
        "    results.append(result)\n",
        "    m_values.append(m)\n",
        "\n",
        "# Print the results\n",
        "for K, result, m in zip(K_values, results, m_values):\n",
        "    print(f\"K = {K}: Call price = {result:.2f}, Moneyness = {m:.2f}\")"
      ],
      "metadata": {
        "colab": {
          "base_uri": "https://localhost:8080/"
        },
        "id": "cvf4b7anh1K9",
        "outputId": "7340035d-c7be-4131-cf95-4b9c0d9fc926"
      },
      "execution_count": 92,
      "outputs": [
        {
          "output_type": "stream",
          "name": "stderr",
          "text": [
            "<ipython-input-92-0fa1e9788081>:36: RankWarning: Polyfit may be poorly conditioned\n",
            "  reg = np.polyfit(X, Y, 2)\n"
          ]
        },
        {
          "output_type": "stream",
          "name": "stdout",
          "text": [
            "K = 90: Call price = 11.87, Moneyness = 0.90\n",
            "K = 95: Call price = 7.87, Moneyness = 0.95\n",
            "K = 100: Call price = 4.75, Moneyness = 1.00\n",
            "K = 105: Call price = 2.58, Moneyness = 1.05\n",
            "K = 110: Call price = 1.27, Moneyness = 1.10\n"
          ]
        }
      ]
    },
    {
      "cell_type": "code",
      "source": [
        "import matplotlib.pyplot as plt\n",
        "\n",
        "K_values = [90, 95, 100, 105, 110]\n",
        "\n",
        "m_values = [K / S for K in K_values]\n",
        "result_values = [american_option_mc(S, K, r, sigma, T, t, Ite, steps)[0] for K in K_values]\n",
        "\n",
        "plt.plot(K_values, m_values, label='Moneyness')\n",
        "plt.plot(K_values, result_values, label='Call Option Price')\n",
        "plt.xlabel('K')\n",
        "plt.ylabel('Value')\n",
        "plt.title('Moneyness vs Call Option Price for Different Strikes')\n",
        "plt.legend()\n",
        "plt.show()"
      ],
      "metadata": {
        "colab": {
          "base_uri": "https://localhost:8080/",
          "height": 507
        },
        "id": "hNiegA9Mh2fl",
        "outputId": "dd246b69-505b-4925-e6e7-e35ace7c93a1"
      },
      "execution_count": 93,
      "outputs": [
        {
          "output_type": "stream",
          "name": "stderr",
          "text": [
            "<ipython-input-92-0fa1e9788081>:36: RankWarning: Polyfit may be poorly conditioned\n",
            "  reg = np.polyfit(X, Y, 2)\n"
          ]
        },
        {
          "output_type": "display_data",
          "data": {
            "text/plain": [
              "<Figure size 640x480 with 1 Axes>"
            ],
            "image/png": "[encoded data removed]"
          },
          "metadata": {}
        }
      ]
    },
    {
      "cell_type": "markdown",
      "source": [
        "##### ** Observation **\n",
        "K = 90: Call price = 11.87, Moneyness = 0.90\\\n",
        "K = 95: Call price = 7.87, Moneyness = 0.95\\\n",
        "K = 100: Call price = 4.75, Moneyness = 1.00\\\n",
        "K = 105: Call price = 2.58, Moneyness = 1.05\\\n",
        "K = 110: Call price = 1.27, Moneyness = 1.10\n",
        "\n",
        "Above results and graph shows opposite direction of the movement of the call option price and moneyness.\\\n",
        "Moneyness is measured as $$m = K / S$$\n",
        "\n",
        "For call options, the moneyness increases as the option price goes down, and vice versa.\\\n",
        "It makes sense because call option gives the investors the right to buy the underlying stock at strike in the future.\\\n",
        "The lower the strike is, the investor spends less on buying the underlying stock in the future, \\\n",
        "hence the more intrinsic value with the call option.\\\n",
        "Therefore the call option price is higher for lower strike and moneyness, and vice versa."
      ],
      "metadata": {
        "id": "oswm0Wokh337"
      }
    },
    {
      "cell_type": "markdown",
      "source": [
        "##### Under Monte-Carlo simulation, price American Put option corresponding to the 5 different strikes."
      ],
      "metadata": {
        "id": "8yLQD0f9h5wD"
      }
    },
    {
      "cell_type": "code",
      "source": [
        "def american_put_option_mc(S, K, r, sigma, T, t, Ite, steps):\n",
        "    np.random.seed(40)\n",
        "    dt = (T - t) / steps\n",
        "    discount = np.exp(-r * dt)\n",
        "\n",
        "    # Generate simulated price paths\n",
        "    ST = np.zeros((Ite, steps + 1))\n",
        "    ST[:, 0] = S\n",
        "    for i in range(1, steps + 1):\n",
        "        z = np.random.normal(0, 1, Ite)\n",
        "        ST[:, i] = ST[:, i - 1] * np.exp((r - 0.5 * sigma**2) * dt + sigma * np.sqrt(dt) * z)\n",
        "\n",
        "    # Initialize payoff matrix\n",
        "    payoff = np.maximum(0, K - ST)\n",
        "\n",
        "    # Initialize cashflows with terminal payoff\n",
        "    cashflows = payoff[:, -1]\n",
        "\n",
        "    for i in range(steps - 1, 0, -1):\n",
        "        # Identify in-the-money paths\n",
        "        in_the_money = payoff[:, i] > 0\n",
        "        X = ST[in_the_money, i]\n",
        "        Y = cashflows[in_the_money] * discount\n",
        "\n",
        "        # Fit regression model to estimate continuation value\n",
        "        if len(X) == 0:\n",
        "            continue\n",
        "        reg = np.polyfit(X, Y, 2)\n",
        "        continuation_value = np.polyval(reg, X)\n",
        "\n",
        "        # Update cashflows: max of immediate exercise and continuation value\n",
        "        cashflows[in_the_money] = np.maximum(payoff[in_the_money, i], continuation_value)\n",
        "        cashflows[~in_the_money] *= discount\n",
        "\n",
        "    # Discount the first time step\n",
        "    cashflows *= discount\n",
        "\n",
        "    # Calculate m = K / S\n",
        "    m = K / S\n",
        "\n",
        "    return np.mean(cashflows), m\n",
        "\n",
        "# Set the values of K\n",
        "K_values = [90, 95, 100, 105, 110]\n",
        "\n",
        "# Create empty lists to store the results\n",
        "results = []\n",
        "m_values = []\n",
        "\n",
        "# Loop through the K values and run the function for each value\n",
        "for K in K_values:\n",
        "    result, m = american_put_option_mc(S, K, r, sigma, T, t, Ite, steps)\n",
        "    results.append(result)\n",
        "    m_values.append(m)\n",
        "\n",
        "# Print the results\n",
        "for K, result, m in zip(K_values, results, m_values):\n",
        "   print(f\"K = {K}: Put price = {result:.2f}, Moneyness = {m:.2f}\")"
      ],
      "metadata": {
        "colab": {
          "base_uri": "https://localhost:8080/"
        },
        "id": "sqkxojZIh7H8",
        "outputId": "22c820af-19a2-4b19-c2ad-2d1af0e1f80e"
      },
      "execution_count": 94,
      "outputs": [
        {
          "output_type": "stream",
          "name": "stderr",
          "text": [
            "<ipython-input-94-5044bc7226c6>:28: RankWarning: Polyfit may be poorly conditioned\n",
            "  reg = np.polyfit(X, Y, 2)\n",
            "<ipython-input-94-5044bc7226c6>:28: RankWarning: Polyfit may be poorly conditioned\n",
            "  reg = np.polyfit(X, Y, 2)\n"
          ]
        },
        {
          "output_type": "stream",
          "name": "stdout",
          "text": [
            "K = 90: Put price = 0.57, Moneyness = 0.90\n",
            "K = 95: Put price = 1.55, Moneyness = 0.95\n",
            "K = 100: Put price = 3.47, Moneyness = 1.00\n",
            "K = 105: Put price = 6.42, Moneyness = 1.05\n",
            "K = 110: Put price = 10.31, Moneyness = 1.10\n"
          ]
        }
      ]
    },
    {
      "cell_type": "code",
      "source": [
        "import matplotlib.pyplot as plt\n",
        "\n",
        "K_values = [90, 95, 100, 105, 110]\n",
        "\n",
        "m_values = [K / S for K in K_values]\n",
        "result_values = [american_put_option_mc(S, K, r, sigma, T, t, Ite, steps)[0] for K in K_values]\n",
        "\n",
        "plt.plot(K_values, m_values, label='Moneyness')\n",
        "plt.plot(K_values, result_values, label='Put Option Price')\n",
        "plt.xlabel('K')\n",
        "plt.ylabel('Value')\n",
        "plt.title('Moneyness vs Put Option Price for Different Strikes')\n",
        "plt.legend()\n",
        "plt.show()"
      ],
      "metadata": {
        "colab": {
          "base_uri": "https://localhost:8080/",
          "height": 541
        },
        "id": "IkfclKDWh8W7",
        "outputId": "ea85b343-1e4a-4a75-e55e-f4975b916a23"
      },
      "execution_count": 95,
      "outputs": [
        {
          "output_type": "stream",
          "name": "stderr",
          "text": [
            "<ipython-input-94-5044bc7226c6>:28: RankWarning: Polyfit may be poorly conditioned\n",
            "  reg = np.polyfit(X, Y, 2)\n",
            "<ipython-input-94-5044bc7226c6>:28: RankWarning: Polyfit may be poorly conditioned\n",
            "  reg = np.polyfit(X, Y, 2)\n"
          ]
        },
        {
          "output_type": "display_data",
          "data": {
            "text/plain": [
              "<Figure size 640x480 with 1 Axes>"
            ],
            "image/png": "[encoded data removed]"
          },
          "metadata": {}
        }
      ]
    },
    {
      "cell_type": "markdown",
      "source": [
        "##### ** Observation **\n",
        "Based on results from above calculations:\\\n",
        "K = 90: Put price = 0.57, Moneyness = 0.90\\\n",
        "K = 95: Put price = 1.55, Moneyness = 0.95\\\n",
        "K = 100: Put price = 3.47, Moneyness = 1.00\\\n",
        "K = 105: Put price = 6.42, Moneyness = 1.05\\\n",
        "K = 110: Put price = 10.31, Moneyness = 1.10\\\n",
        "\n",
        "Moneyness, measured as $m = K / S0$, moves in the same direction as the put option price, that is,\\\n",
        "the moneyness increases as the strike goes up, and vice versa.\\\n",
        "It makes sense because put option gives the investors the right to sell the underlying stock at strike in the future.\\\n",
        "The higher the strike means, the more the investor receives on selling the underlying stock in the future, \\\n",
        "hence the more intrinsic value with the put option.\\\n",
        "Therefore the put option price is higher for higher strike and moneyness, and vice versa."
      ],
      "metadata": {
        "id": "D57KEX8ah9m9"
      }
    },
    {
      "cell_type": "markdown",
      "source": [
        "# Step 3"
      ],
      "metadata": {
        "id": "kTGDshq_CIYo"
      }
    },
    {
      "cell_type": "markdown",
      "source": [
        "#Team member A"
      ],
      "metadata": {
        "id": "Z6AVsI8pdWwc"
      }
    },
    {
      "cell_type": "code",
      "source": [
        "# Black-Scholes model in Python\n",
        "import numpy as np\n",
        "import scipy.stats as ss\n",
        "\n",
        "# Data for input in Black-Scholes formula:\n",
        "\n",
        "T = 3/12  # supposed in years. It is not the maturity, but the time to maturity\n",
        "S = 100.0\n",
        "K = 110.0\n",
        "r = 0.05\n",
        "vol = 0.20  # supposing it is annual\n",
        "option_type = \"C\"  # for the put insert 'P'\n",
        "# dividend yield assumed to be 0\n",
        "\n",
        "# Compute d1 and d2\n",
        "d1 = (np.log(S / K) + (r + 0.5 * vol**2) * T) / (vol * np.sqrt(T))\n",
        "d2 = d1 - vol * np.sqrt(T)\n",
        "\n",
        "if option_type in [\"C\", \"P\"]:\n",
        "    if option_type in [\"C\"]:\n",
        "        Opt_Price = S * ss.norm.cdf(d1) - K * np.exp(-r * T) * ss.norm.cdf(d2)\n",
        "        Delta = ss.norm.cdf(d1)\n",
        "        Gamma = ss.norm.pdf(d1) / (S * vol * np.sqrt(T))\n",
        "        Vega = S * ss.norm.pdf(d1) * np.sqrt(T)\n",
        "        Theta = -(S * ss.norm.pdf(d1) * vol) / (2 * np.sqrt(T)) - r * K * np.exp(\n",
        "            -r * T\n",
        "        ) * ss.norm.cdf(d2)\n",
        "        Rho = K * T * np.exp(-r * T) * ss.norm.cdf(d2)\n",
        "    else:\n",
        "        Opt_Price = K * np.exp(-r * T) * ss.norm.cdf(-d2) - S * ss.norm.cdf(-d1)\n",
        "        Delta = -ss.norm.cdf(-d1)\n",
        "        Gamma = ss.norm.pdf(d1) / (S * vol * np.sqrt(T))\n",
        "        Vega = S * ss.norm.pdf(d1) * np.sqrt(T)\n",
        "        Theta = -(S * ss.norm.pdf(d1) * vol) / (2 * np.sqrt(T)) + r * K * np.exp(\n",
        "            -r * T\n",
        "        ) * ss.norm.cdf(-d2)\n",
        "        Rho = -K * T * np.exp(-r * T) * ss.norm.cdf(-d2)\n",
        "else:\n",
        "    Opt_Price = \"Error: option type incorrect. Choose P for a put option or C for a call option.\"\n",
        "\n",
        "print(\"110% moneyness of European Call Option price = {}\".format(Opt_Price))\n",
        "print(\"Delta = {}\".format(Delta))\n",
        "print(\"Gamma = {}\".format(Gamma))\n",
        "print(\"Vega = {}\".format(Vega))\n",
        "print(\"Theta = {}\".format(Theta))\n",
        "print(\"Rho = {}\".format(Rho))"
      ],
      "metadata": {
        "colab": {
          "base_uri": "https://localhost:8080/"
        },
        "id": "cm4y9GCkFQGZ",
        "outputId": "ca7e4a80-476c-4692-f977-de1728b23a8f"
      },
      "execution_count": 96,
      "outputs": [
        {
          "output_type": "stream",
          "name": "stdout",
          "text": [
            "110% moneyness of European Call Option price = 1.1911316636130742\n",
            "Delta = 0.21825450140567387\n",
            "Gamma = 0.029474056882908363\n",
            "Vega = 14.73702844145418\n",
            "Theta = -6.926527300429388\n",
            "Rho = 5.158579619238578\n"
          ]
        }
      ]
    },
    {
      "cell_type": "markdown",
      "source": [
        "Using the Black Scholes Method to calculate European call option with the 110% moneyness. The other information is retrieved from GWP1 of S0 = 100; r = 5%; σ = 20%; T = 3 months. Since, this option is an OTM at T0, the premium prices will be lower. Based on the calculation, the premium price of this option is $1.19"
      ],
      "metadata": {
        "id": "_b_LQQzP80jB"
      }
    },
    {
      "cell_type": "code",
      "source": [
        "# Black-Scholes model in Python\n",
        "import numpy as np\n",
        "import scipy.stats as ss\n",
        "\n",
        "# Data for input in Black-Scholes formula:\n",
        "\n",
        "T = 3/12  # supposed in years. It is not the maturity, but the time to maturity\n",
        "S = 100.0\n",
        "K = 95.0\n",
        "r = 0.05\n",
        "vol = 0.20  # supposing it is annual\n",
        "option_type = \"P\"  # for the put insert 'P'\n",
        "# dividend yield assumed to be 0\n",
        "\n",
        "# Compute d1 and d2\n",
        "d1 = (np.log(S / K) + (r + 0.5 * vol**2) * T) / (vol * np.sqrt(T))\n",
        "d2 = d1 - vol * np.sqrt(T)\n",
        "\n",
        "if option_type in [\"C\", \"P\"]:\n",
        "    if option_type in [\"C\"]:\n",
        "        Opt_Price = S * ss.norm.cdf(d1) - K * np.exp(-r * T) * ss.norm.cdf(d2)\n",
        "        Delta = ss.norm.cdf(d1)\n",
        "        Gamma = ss.norm.pdf(d1) / (S * vol * np.sqrt(T))\n",
        "        Vega = S * ss.norm.pdf(d1) * np.sqrt(T)\n",
        "        Theta = -(S * ss.norm.pdf(d1) * vol) / (2 * np.sqrt(T)) - r * K * np.exp(\n",
        "            -r * T\n",
        "        ) * ss.norm.cdf(d2)\n",
        "        Rho = K * T * np.exp(-r * T) * ss.norm.cdf(d2)\n",
        "    else:\n",
        "        Opt_Price = K * np.exp(-r * T) * ss.norm.cdf(-d2) - S * ss.norm.cdf(-d1)\n",
        "        Delta = -ss.norm.cdf(-d1)\n",
        "        Gamma = ss.norm.pdf(d1) / (S * vol * np.sqrt(T))\n",
        "        Vega = S * ss.norm.pdf(d1) * np.sqrt(T)\n",
        "        Theta = -(S * ss.norm.pdf(d1) * vol) / (2 * np.sqrt(T)) + r * K * np.exp(\n",
        "            -r * T\n",
        "        ) * ss.norm.cdf(-d2)\n",
        "        Rho = -K * T * np.exp(-r * T) * ss.norm.cdf(-d2)\n",
        "else:\n",
        "    Opt_Price = \"Error: option type incorrect. Choose P for a put option or C for a call option.\"\n",
        "\n",
        "print(\"95% moneyness of European Put Option price = {}\".format(Opt_Price))\n",
        "print(\"Delta = {}\".format(Delta))\n",
        "print(\"Gamma = {}\".format(Gamma))\n",
        "print(\"Vega = {}\".format(Vega))\n",
        "print(\"Theta = {}\".format(Theta))\n",
        "print(\"Rho = {}\".format(Rho))"
      ],
      "metadata": {
        "colab": {
          "base_uri": "https://localhost:8080/"
        },
        "id": "U2jhEXGvFtcy",
        "outputId": "56c7297a-7a41-4b18-c73a-8d4f1ed42aba"
      },
      "execution_count": 97,
      "outputs": [
        {
          "output_type": "stream",
          "name": "stdout",
          "text": [
            "95% moneyness of European Put Option price = 1.5342604771222845\n",
            "Delta = -0.24574750481397373\n",
            "Gamma = 0.03148797683362462\n",
            "Vega = 15.74398841681231\n",
            "Theta = -4.992144818798941\n",
            "Rho = -6.5272527396299145\n"
          ]
        }
      ]
    },
    {
      "cell_type": "markdown",
      "source": [
        "The European put option’s status also OTM. The price is relatively low and cost $1.53."
      ],
      "metadata": {
        "id": "huFnM9pO83C4"
      }
    },
    {
      "cell_type": "markdown",
      "source": [
        "b. Delta Hedging (Call option)\n",
        "\n",
        "European call option"
      ],
      "metadata": {
        "id": "Nv0GPSGMjybj"
      }
    },
    {
      "cell_type": "code",
      "source": [
        "T = 3/12  # supposed in years. It is not the maturity, but the time to maturity\n",
        "S = 100.0\n",
        "K = 110.0\n",
        "r = 0.05\n",
        "vol = 0.20  # supposing it is annual\n",
        "option_type = \"C\"\n",
        "\n",
        "d1 = (np.log(S / K) + (r + 0.5 * vol**2) * T) / (vol * np.sqrt(T))\n",
        "d2 = d1 - vol * np.sqrt(T)\n",
        "\n",
        "if option_type in [\"C\", \"P\"]:\n",
        "    if option_type in [\"C\"]:\n",
        "        Opt_Price = S * ss.norm.cdf(d1) - K * np.exp(-r * T) * ss.norm.cdf(d2)\n",
        "        Delta = ss.norm.cdf(d1)\n",
        "        Gamma = ss.norm.pdf(d1) / (S * vol * np.sqrt(T))\n",
        "        Vega = S * ss.norm.pdf(d1) * np.sqrt(T)\n",
        "        Theta = -(S * ss.norm.pdf(d1) * vol) / (2 * np.sqrt(T)) - r * K * np.exp(\n",
        "            -r * T\n",
        "        ) * ss.norm.cdf(d2)\n",
        "        Rho = K * T * np.exp(-r * T) * ss.norm.cdf(d2)\n",
        "    else:\n",
        "        Opt_Price = K * np.exp(-r * T) * ss.norm.cdf(-d2) - S * ss.norm.cdf(-d1)\n",
        "        Delta = -ss.norm.cdf(-d1)\n",
        "        Gamma = ss.norm.pdf(d1) / (S * vol * np.sqrt(T))\n",
        "        Vega = S * ss.norm.pdf(d1) * np.sqrt(T)\n",
        "        Theta = -(S * ss.norm.pdf(d1) * vol) / (2 * np.sqrt(T)) + r * K * np.exp(\n",
        "            -r * T\n",
        "        ) * ss.norm.cdf(-d2)\n",
        "        Rho = -K * T * np.exp(-r * T) * ss.norm.cdf(-d2)\n",
        "else:\n",
        "    Opt_Price = \"Error: option type incorrect. Choose P for a put option or C for a call option.\"\n",
        "\n",
        "print(\"110% moneyness of European Call Option price's Delta = {}\".format(Delta))"
      ],
      "metadata": {
        "colab": {
          "base_uri": "https://localhost:8080/"
        },
        "id": "MKOg8e-iGCB8",
        "outputId": "46db46aa-3f08-4b70-92b4-a96d16b13c62"
      },
      "execution_count": 98,
      "outputs": [
        {
          "output_type": "stream",
          "name": "stdout",
          "text": [
            "110% moneyness of European Call Option price's Delta = 0.21825450140567387\n"
          ]
        }
      ]
    },
    {
      "cell_type": "markdown",
      "source": [
        "European Put option"
      ],
      "metadata": {
        "id": "w-psCh-okLdG"
      }
    },
    {
      "cell_type": "code",
      "source": [
        "T = 3/12  # supposed in years. It is not the maturity, but the time to maturity\n",
        "S = 100.0\n",
        "K = 95.0\n",
        "r = 0.05\n",
        "vol = 0.20  # supposing it is annual\n",
        "option_type = \"P\"\n",
        "\n",
        "d1 = (np.log(S / K) + (r + 0.5 * vol**2) * T) / (vol * np.sqrt(T))\n",
        "d2 = d1 - vol * np.sqrt(T)\n",
        "\n",
        "if option_type in [\"C\", \"P\"]:\n",
        "    if option_type in [\"C\"]:\n",
        "        Opt_Price = S * ss.norm.cdf(d1) - K * np.exp(-r * T) * ss.norm.cdf(d2)\n",
        "        Delta = ss.norm.cdf(d1)\n",
        "        Gamma = ss.norm.pdf(d1) / (S * vol * np.sqrt(T))\n",
        "        Vega = S * ss.norm.pdf(d1) * np.sqrt(T)\n",
        "        Theta = -(S * ss.norm.pdf(d1) * vol) / (2 * np.sqrt(T)) - r * K * np.exp(\n",
        "            -r * T\n",
        "        ) * ss.norm.cdf(d2)\n",
        "        Rho = K * T * np.exp(-r * T) * ss.norm.cdf(d2)\n",
        "    else:\n",
        "        Opt_Price = K * np.exp(-r * T) * ss.norm.cdf(-d2) - S * ss.norm.cdf(-d1)\n",
        "        Delta = -ss.norm.cdf(-d1)\n",
        "        Gamma = ss.norm.pdf(d1) / (S * vol * np.sqrt(T))\n",
        "        Vega = S * ss.norm.pdf(d1) * np.sqrt(T)\n",
        "        Theta = -(S * ss.norm.pdf(d1) * vol) / (2 * np.sqrt(T)) + r * K * np.exp(\n",
        "            -r * T\n",
        "        ) * ss.norm.cdf(-d2)\n",
        "        Rho = -K * T * np.exp(-r * T) * ss.norm.cdf(-d2)\n",
        "else:\n",
        "    Opt_Price = \"Error: option type incorrect. Choose P for a put option or C for a call option.\"\n",
        "\n",
        "print(\"95% moneyness of European Put Option price's Delta = {}\".format(Delta))"
      ],
      "metadata": {
        "colab": {
          "base_uri": "https://localhost:8080/"
        },
        "id": "_b4MdzGzkJUH",
        "outputId": "36fd20fe-3d13-4aaf-e0d2-34776e402645"
      },
      "execution_count": 99,
      "outputs": [
        {
          "output_type": "stream",
          "name": "stdout",
          "text": [
            "95% moneyness of European Put Option price's Delta = -0.24574750481397373\n"
          ]
        }
      ]
    },
    {
      "cell_type": "markdown",
      "source": [
        "b. The delta of European call option is 0.218 and put option is -0.246.\n",
        "\n",
        "Based on the option of call and put is $1.19 and $1.53, respectively. Buying of both options required a total cost of $$2.72. Assume there is a 100 shares and cost of option is $272.\n",
        "\n",
        "With the initial capital of $100, it should buy 0.218 shares which cost $21.8 (0.218 *100) for call option. While the put option should buy 0.246 shares of right to sell at specific strike price which cost $25.6 (0.246*100).\n",
        "\n",
        "The delta portfolio is sum of delta of call and put option which 0.218 + (-0.246) = -0.028. The value shows negative which indicate a bearish stance. To hedge with the portfolio, it should buy 0.028 of units at $$2.80 to neutralize the shortfall of the negative delta.  \n",
        "As a conclusion, the total capital will be used is $274.8 with $2.80 of delta hedging.\n"
      ],
      "metadata": {
        "id": "gt9kdw8c8uxo"
      }
    },
    {
      "cell_type": "markdown",
      "source": [
        "c.\tDelta Hedging with buying call and selling put.\n",
        "The delta of European call option is 0.218 and put option is -0.246. Since it is selling put option, this it gains $24.6 of 0.246 units.\n",
        "\n",
        "The delta portfolio is 0.218 + 0.246 = 0.464. Positive of delta means bullish stance; to hedge with the positive value, it should sell 0.464 units at $46.40.\n",
        "\n",
        "Assume there is 100 shares, since it selling put option which consider as revenue, it expected to gain $153 and the cost of buying call option is $119. Thus, it still remains $34 and the other revenue came from delta hedge, $46.40. The total revenue is $80.40 and no additional cost incurred.\n"
      ],
      "metadata": {
        "id": "w0taNDWA9RNx"
      }
    },
    {
      "cell_type": "markdown",
      "source": [
        "# Team member B"
      ],
      "metadata": {
        "id": "-BQC1f34dZkG"
      }
    },
    {
      "cell_type": "code",
      "source": [
        "np.random.seed(42)\n",
        "\n",
        "def price_uao_barrier_option(S0, K, r, sigma, T, barrier, Ite=10000):\n",
        "    dt = 1 / 252  # Daily time-step\n",
        "    steps = int(T * 252)  # Number of time-steps\n",
        "    discount_factor = np.exp(-r * T)\n",
        "\n",
        "    payoffs = np.zeros(Ite)\n",
        "\n",
        "    for i in range(Ite):\n",
        "        S = S0\n",
        "        barrier_breached = False\n",
        "\n",
        "        for j in range(steps):\n",
        "            z = np.random.normal()\n",
        "            S = S * np.exp((r - 0.5 * sigma**2) * dt + sigma * np.sqrt(dt) * z)\n",
        "\n",
        "            if S >= barrier:\n",
        "                barrier_breached = True\n",
        "                break\n",
        "\n",
        "        if not barrier_breached:\n",
        "            payoffs[i] = max(S - K, 0)\n",
        "\n",
        "    option_price = np.mean(payoffs) * discount_factor\n",
        "    return option_price\n",
        "\n",
        "# Parameters\n",
        "S0 = 120  # Initial stock price\n",
        "r = 0.06  # Risk-free rate\n",
        "sigma = 0.30  # Volatility\n",
        "T = 8 / 12  # Time to maturity in years (8 months)\n",
        "K = S0  # ATM option, strike price is equal to the initial stock price\n",
        "barrier = 141  # Barrier level\n",
        "\n",
        "# Pricing the Up-and-Out barrier option\n",
        "uao_barrier_option_price = round(price_uao_barrier_option(S0, K, r, sigma, T, barrier, Ite), 2)\n",
        "\n",
        "print(f\"Up-and-Out Barrier Option price is: {uao_barrier_option_price}\")\n"
      ],
      "metadata": {
        "colab": {
          "base_uri": "https://localhost:8080/"
        },
        "id": "nIRjPakBdhwI",
        "outputId": "14a25f90-4e67-4ba7-f33e-2ae8e9b6697b"
      },
      "execution_count": 100,
      "outputs": [
        {
          "output_type": "stream",
          "name": "stdout",
          "text": [
            "Up-and-Out Barrier Option price is: 0.73\n"
          ]
        }
      ]
    },
    {
      "cell_type": "markdown",
      "source": [
        "The calculated Up-and-Out Barrier Option price is: 0.71. A payoff is only potential if underlying price does not exceed the barrier level of 141 during its life span. The function simulates the price paths for breach of barrier, if true the option expires worthless"
      ],
      "metadata": {
        "id": "RjFwnTxvdjiM"
      }
    },
    {
      "cell_type": "markdown",
      "source": [
        "# Team Member C\n",
        "\n",
        "###  Q9 a. the price of the UAI option"
      ],
      "metadata": {
        "id": "dgIv-40pCin_"
      }
    },
    {
      "cell_type": "code",
      "source": [
        "# Parameters\n",
        "S0 = 120  # Initial stock price\n",
        "r = 0.06  # Risk-free rate\n",
        "sigma = 0.30  # Volatility\n",
        "T = 8 / 12  # Time to maturity in years (8 months)\n",
        "K = S0  # ATM option, strike price is equal to the initial stock price\n",
        "barrier = 141  # Barrier level\n",
        "Ite = 10000  # Number of simulations for reliable estimate\n",
        "\n",
        "def price_uai_barrier_option(S0, K, r, sigma, T, barrier, Ite=10000):\n",
        "    dt = T / 252  # Daily time-step\n",
        "    total_payoff = 0\n",
        "\n",
        "    for _ in range(Ite):\n",
        "        S = S0\n",
        "        for _ in range(int(T * 252)):\n",
        "            dS = r * S * dt + sigma * S * np.sqrt(dt) * np.random.normal()\n",
        "            S += dS\n",
        "            if S >= barrier:\n",
        "                total_payoff += max(S - K, 0)\n",
        "                break\n",
        "    return round(total_payoff / Ite * np.exp(-r * T), 2)\n",
        "\n",
        "option_price = price_uai_barrier_option(S0, K, r, sigma, T, barrier)\n",
        "print(\"Up-and-In barrier (UAI) option:\", option_price)"
      ],
      "metadata": {
        "id": "hH_KBZ8Z0oUm",
        "colab": {
          "base_uri": "https://localhost:8080/"
        },
        "outputId": "ad67732c-7cd9-41a4-a9ed-01e5642125b8"
      },
      "execution_count": 101,
      "outputs": [
        {
          "output_type": "stream",
          "name": "stdout",
          "text": [
            "Up-and-In barrier (UAI) option: 8.67\n"
          ]
        }
      ]
    },
    {
      "cell_type": "markdown",
      "source": [
        "###Q9 b. Compute the Price of Vanilla Option"
      ],
      "metadata": {
        "id": "Eftux77HCtQJ"
      }
    },
    {
      "cell_type": "code",
      "source": [
        "def vanilla_option_price(S0, K, r, sigma, T):\n",
        "    d1 = (np.log(S0 / K) + (r + 0.5 * sigma**2) * T) / (sigma * np.sqrt(T))\n",
        "    d2 = d1 - sigma * np.sqrt(T)\n",
        "    option_price = S0 * norm.cdf(d1) - K * np.exp(-r * T) * norm.cdf(d2)\n",
        "    return round(option_price, 2)\n",
        "\n",
        "S0 = 120\n",
        "K = 120\n",
        "r = 0.06\n",
        "sigma = 0.3\n",
        "T = 8 / 12  # 将 8 个月转换为年\n",
        "\n",
        "option_price = vanilla_option_price(S0, K, r, sigma, T)\n",
        "print(\"Price of Vanilla Option:\", option_price)"
      ],
      "metadata": {
        "colab": {
          "base_uri": "https://localhost:8080/"
        },
        "id": "4MGnHvIKCsZE",
        "outputId": "f2b64ff5-d333-429e-9a9b-6c166ea59adb"
      },
      "execution_count": 102,
      "outputs": [
        {
          "output_type": "stream",
          "name": "stdout",
          "text": [
            "Price of Vanilla Option: 13.97\n"
          ]
        }
      ]
    },
    {
      "cell_type": "markdown",
      "source": [
        "###Q9 c. UAO UAI v.s. Vanilla option"
      ],
      "metadata": {
        "id": "2f7gLEKqCw_6"
      }
    },
    {
      "cell_type": "markdown",
      "source": [
        "** Observation **\n",
        "As computed above, the Price of Vanilla Option of 13.97 is higher than barrier options UAO of 0.71 and UAI of 8.69.\n",
        "\n",
        "The vanilla option is the most common type of option, and its price is mainly determined by the difference between the underlying asset price and the strike price, as well as the time to expiration and the volatility of the underlying asset.\n",
        "\n",
        "For the barrier options UAO (Up-and-Out option) and UAI (Up-and-In option), their pricing is more complex than the vanilla option as their payoffs depend on whether the underlying asset price reaches a certain barrier level.\n",
        "\n",
        "The UAO pays off only if the underlying asset price does not reach the barrier level before expiration, while the UAI pays off only if the underlying asset price reaches the barrier level before expiration.\n",
        "\n",
        "Our results make sense as vanilla option gives the holder the potential for unlimited profit if the price of the underlying asset moves in a favorable direction. In contrast, the UAO and UAI options have limited potential payoff because they can be knocked out or knocked in if the underlying asset price reaches a certain level."
      ],
      "metadata": {
        "id": "15rbinKAC1OZ"
      }
    },
    {
      "cell_type": "code",
      "source": [],
      "metadata": {
        "id": "-YOuzw0zC_w3"
      },
      "execution_count": null,
      "outputs": []
    }
  ]
}